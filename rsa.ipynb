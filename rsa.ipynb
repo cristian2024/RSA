{
  "nbformat": 4,
  "nbformat_minor": 0,
  "metadata": {
    "colab": {
      "name": "rsa.ipynb",
      "provenance": [],
      "authorship_tag": "ABX9TyM3z2F2hSsDgxcSlBqQaoxP",
      "include_colab_link": true
    },
    "kernelspec": {
      "name": "python3",
      "display_name": "Python 3"
    }
  },
  "cells": [
    {
      "cell_type": "markdown",
      "metadata": {
        "id": "view-in-github",
        "colab_type": "text"
      },
      "source": [
        "<a href=\"https://colab.research.google.com/github/cristian2024/RSA/blob/master/rsa.ipynb\" target=\"_parent\"><img src=\"https://colab.research.google.com/assets/colab-badge.svg\" alt=\"Open In Colab\"/></a>"
      ]
    },
    {
      "cell_type": "markdown",
      "metadata": {
        "id": "g7la-mq8Ja7G",
        "colab_type": "text"
      },
      "source": [
        "**AlgoritmoRsa para envio de mensajes**\n",
        "\n",
        "En criptografía, RSA (Rivest, Shamir y Adleman) es un sistema criptográfico de clave pública desarrollado en 1979. Es el primer y más utilizado algoritmo de este tipo y es válido tanto para cifrar como para firmar digitalmente.\n",
        "\n",
        "La seguridad de este algoritmo radica en el problema de la factorización de números enteros. Los mensajes enviados se representan mediante números, y el funcionamiento se basa en el producto, conocido, de dos números primos grandes elegidos al azar y mantenidos en secreto. Actualmente estos primos son del orden de $10^{300}$ , y se prevé que su tamaño siempre crezca con el aumento de la capacidad de cálculo de los ordenadores.\n",
        "\n",
        "Como en todo sistema de clave pública, cada usuario posee dos claves de cifrado: una pública y otra privada. Cuando se quiere enviar un mensaje, el emisor busca la clave pública del receptor, cifra su mensaje con esa clave, y una vez que el mensaje cifrado llega al receptor, este se ocupa de descifrarlo usando su clave privada.\n",
        "\n",
        "Se cree que RSA será seguro mientras no se conozcan formas rápidas de descomponer un número grande en producto de primos. Aunque se cree que la computación cuántica podría proveer de una solución al problema de factorización, existen investigadores que dudan que dichos avances vayan a volver obsoletos estos algoritmos. [1]\n",
        "\n",
        "\n",
        "\n",
        "\n"
      ]
    },
    {
      "cell_type": "markdown",
      "metadata": {
        "id": "rPXZpAZaMDri",
        "colab_type": "text"
      },
      "source": [
        "**Funciones necesarias**\n",
        "\n",
        "para el funcionamiento correcto del algoritmo, se deben codificador distintas funciones, entre ellas se encuentran:\n",
        "\n",
        "\n",
        "*   Algoritmo extendido de euclides\n",
        "*   Inversa modular\n",
        "*   Conversores:\n",
        "  * de entero a caracter\n",
        "  * de caracter a int\n"
      ]
    },
    {
      "cell_type": "markdown",
      "metadata": {
        "id": "bswI0llEJZXH",
        "colab_type": "text"
      },
      "source": [
        "**Algorimo extendido de euclides**\n",
        "\n",
        "el algoritmo extendido de euclides es una ampliacion del algoritmo de euclides que nos permite encontar los valores 'x' y 'y' de la siguiente ecuacion:\n",
        "\n",
        "mcd(a,b)= a(x)+b(y)\n",
        "\n",
        "donde a > = b\n",
        "\n",
        "Si no se cumple la desigualdad anterior, la misma funcion los ordenara internamente y mostrara los valores en orden de  mayor a menor\n",
        "\n",
        "Dado que los valores a y b deben estar ordenados, se precisa de una funcion que complete este trabajo:"
      ]
    },
    {
      "cell_type": "code",
      "metadata": {
        "id": "sPRxsE_KI8rk",
        "colab_type": "code",
        "colab": {
          "base_uri": "https://localhost:8080/",
          "height": 50
        },
        "outputId": "c98b712d-d007-4cc5-b70f-d46167a3d49e"
      },
      "source": [
        "def max_min(a,b):\n",
        "    if a > b:\n",
        "        return [a, b]\n",
        "    return [b,a]\n",
        "\n",
        "\n",
        "def alg_euclides_extendido(a, b):\n",
        "\n",
        "    #primero se ordenan los dos valores del mayor al menor#\n",
        "    ord = max_min(a,b)\n",
        "\n",
        "    #los primeros datos en los arreglos siempre seran los mismos#\n",
        "    pri=[ord[0],0,1,0]\n",
        "    seg=[ord[1],ord[0]//ord[1],0,1]\n",
        "\n",
        "\n",
        "    #se necesitan modificar los datos de ambos arreglos, uno a la vez\n",
        "    # val sirve para definir a cual de los dos modificar\n",
        "    val=True\n",
        "\n",
        "    #Cuando alguno de los arreglos llegue a cero en la primera posicion,\n",
        "    # se acabo la ejecucion#\n",
        "    while pri[0]!=0 and seg[0]!=0:\n",
        "        if val:\n",
        "            pri[0] = pri[0] % seg[0]\n",
        "            pri[2] = pri[2] - (seg[1] * seg[2])\n",
        "            pri[3] = pri[3] - (seg[1] * seg[3])\n",
        "\n",
        "            #debemos asegurarnos de no dividir por cero\n",
        "            if pri[0] != 0 and seg[0] != 0:\n",
        "                pri[1]=(seg[0] // pri[0])\n",
        "\n",
        "            #se modifica la variable val para que ahora modifique el otro\n",
        "\n",
        "\n",
        "            val = False\n",
        "        else:\n",
        "            seg[0] = seg[0] % pri[0]\n",
        "            seg[2] = seg[2] - (pri[1] * pri[2])\n",
        "            seg[3] = seg[3] - (pri[1] * pri[3])\n",
        "\n",
        "\n",
        "            if seg[0] != 0 and pri[0] != 0:\n",
        "                seg[1]=(pri[0] // seg[0])\n",
        "\n",
        "\n",
        "            val = True\n",
        "\n",
        "    if val:\n",
        "        return [pri[0],pri[2],pri[3]]\n",
        "    else:\n",
        "        return [seg[0],seg[2],seg[3]]\n",
        "\n",
        "# si bien el algoritmo extendido de euclides puede hacer el calculo del mcd, es menos eficiente ya que ademas de este calcula otros valores, si no son necesarios en la operacion\n",
        "# a realizar, es preferible usar la version especifica del mcd, tambien conocido como \"algoritmo de euclides\"\n",
        "\n",
        "print(alg_euclides_extendido(17,13))\n",
        "print(alg_euclides_extendido(102,400))\n"
      ],
      "execution_count": null,
      "outputs": [
        {
          "output_type": "stream",
          "text": [
            "[1, -3, 4]\n",
            "[2, -13, 51]\n"
          ],
          "name": "stdout"
        }
      ]
    },
    {
      "cell_type": "code",
      "metadata": {
        "id": "FK1vALissq_y",
        "colab_type": "code",
        "colab": {}
      },
      "source": [
        ""
      ],
      "execution_count": null,
      "outputs": []
    },
    {
      "cell_type": "markdown",
      "metadata": {
        "id": "twQ68DPoQ11F",
        "colab_type": "text"
      },
      "source": [
        "El anterior algorimtmo implementa una solucion tipo tabla que se explica en la siguiente figura:\n",
        "![image.png](data:image/png;base64,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)\n",
        "\n",
        "**Nota** : la primera posicion es el maximo comun divisor, la segunda es el valor de x y la tercera es el valor de y\n"
      ]
    },
    {
      "cell_type": "markdown",
      "metadata": {
        "id": "mRHVfa9Ruv5L",
        "colab_type": "text"
      },
      "source": [
        "**Inversa Modular**\n",
        "\n",
        "Dado $n\\in Z_p$, se define la inversa modular de n,($n^{-1}$)  de la siguiente manera:\n",
        "\n",
        "$$nn^{-1} \\cong 1mod(p)$$\n",
        "\n",
        "n tendra inversa si se cumple la siguiente condicion:\n",
        "\n",
        "* $Mcd(n,p)=1$\n",
        "\n",
        "El valor de la inversa $n^{-1}$ sera la variable que acompana al valor p al solucionar la ecuacion $Mcd(n,p)=y(n)+x(p)$, y esta misma es resuelta con el algoritmo extendido de euclides\n",
        "\n",
        "Nota: si el valor de la inversa es negativo, se le suma el valor de p\n"
      ]
    },
    {
      "cell_type": "code",
      "metadata": {
        "id": "FYT1i5vF07fN",
        "colab_type": "code",
        "colab": {}
      },
      "source": [
        "def inversa(n,mod):\n",
        "    ord=alg_euclides_extendido(n,mod)\n",
        "    if ord[0]==1:\n",
        "        if ord[2]<0:\n",
        "            return ord[2]+mod\n",
        "        return ord[2]\n",
        "    return 0"
      ],
      "execution_count": null,
      "outputs": []
    },
    {
      "cell_type": "markdown",
      "metadata": {
        "id": "soUdamwi4v-U",
        "colab_type": "text"
      },
      "source": [
        "**Conversores**\n",
        "\n",
        "Los mensajes en tipo caracter deben ser pasados a valores numericos y viceversa dependiendo de como sean necesarios, para ello se implementaron las funciones que convierten de un lado al otro\n",
        "\n",
        "**de caracter a entero**"
      ]
    },
    {
      "cell_type": "code",
      "metadata": {
        "id": "sda2cJkISsMj",
        "colab_type": "code",
        "colab": {
          "base_uri": "https://localhost:8080/",
          "height": 67
        },
        "outputId": "7777208a-a7cc-4919-dd39-f1e04dc98ef5"
      },
      "source": [
        "def int_char(char):\n",
        "    c=ord(char)\n",
        "    if 65<=c<=90:\n",
        "        return c-64\n",
        "    elif 97<=c<=122:\n",
        "        return c-96\n",
        "    return 0\n",
        "\n",
        "print(int_char('a'))\n",
        "print(int_char('A'))\n",
        "print(int_char('z'))"
      ],
      "execution_count": null,
      "outputs": [
        {
          "output_type": "stream",
          "text": [
            "1\n",
            "1\n",
            "26\n"
          ],
          "name": "stdout"
        }
      ]
    },
    {
      "cell_type": "markdown",
      "metadata": {
        "id": "v3KyX9LsSz4b",
        "colab_type": "text"
      },
      "source": [
        "**de entrero a caracter**"
      ]
    },
    {
      "cell_type": "code",
      "metadata": {
        "id": "fXd_RK75S7EU",
        "colab_type": "code",
        "colab": {
          "base_uri": "https://localhost:8080/",
          "height": 50
        },
        "outputId": "fb1abd9e-e90d-4bb8-9e4f-2d4c5bdd28c5"
      },
      "source": [
        "def char_int(int):\n",
        "    if int==0:\n",
        "        return '.'\n",
        "    return chr(int+96)\n",
        "\n",
        "print(char_int(1))\n",
        "print(char_int(26))"
      ],
      "execution_count": null,
      "outputs": [
        {
          "output_type": "stream",
          "text": [
            "a\n",
            "z\n"
          ],
          "name": "stdout"
        }
      ]
    },
    {
      "cell_type": "markdown",
      "metadata": {
        "id": "8qgVQM0OS9st",
        "colab_type": "text"
      },
      "source": [
        "cabe recalcar que en esta implementacion, solo se leen los caracteres pertenecientes al abecedario, cualquier otro lo convierte en un punto, y la mayuscula se convierte en minuscula"
      ]
    },
    {
      "cell_type": "markdown",
      "metadata": {
        "id": "B8lu-aCaUFIJ",
        "colab_type": "text"
      },
      "source": [
        "**Otras funciones**\n",
        "\n",
        "las siguientes funciones son usadas para un funcionamiento correcto y no necesitan mayor explicacion:"
      ]
    },
    {
      "cell_type": "markdown",
      "metadata": {
        "id": "XbevwIrJW4ub",
        "colab_type": "text"
      },
      "source": [
        "**LLaves publica y privada**\n",
        "\n",
        "Las llaves publica y privada son un conjunto de numeros que se usan para encriptar y desencriptar el mensaje en cuestion.\n",
        "\n",
        "Dados los valores $p,q$, ambos siendo numeros primos (preferiblemente primos grandes), se definen:\n",
        "$$Φ(p,q)=(p-1)(q-1)$$\n",
        "$$n(p,q)=p*q$$\n",
        "\n",
        "**Llave publica**\n",
        "\n",
        "la llave publica son un conjunto de dos numeros $e,n$ los cuales se usan para operar con el mensaje y encriptarlo, donde:\n",
        "\n",
        "* $e\\in Z_Φ$, $e$ posee inversa multiplicativa modular, es decir, $\\forall Z_Φ \\exists e^{-1} | ee^{-1}\\cong 1(mod Φ)$\n",
        "\n",
        "Nota: es mas confiable tomar a $e$ como un numero primo no divisor de $Φ$, esto con el fin de generar una mejor encriptacion"
      ]
    },
    {
      "cell_type": "code",
      "metadata": {
        "id": "83rQ84ucap3q",
        "colab_type": "code",
        "colab": {
          "base_uri": "https://localhost:8080/",
          "height": 34
        },
        "outputId": "28337f9d-f095-4f16-9503-712465ab78cf"
      },
      "source": [
        "import random\n",
        "#si bien el mcd de dos numeros se puede calcular con el algoritmo extendido de euclides...\n",
        "#esta implementacion esta mas pensada para solo el mcd evitando el resto de valores\n",
        "def mcd(a,b):\n",
        "    if b==0:\n",
        "        return a\n",
        "    else:\n",
        "        return mcd(b,a%b)\n",
        "\n",
        "\n",
        "#este par de funciones sirven para calcular primos de manera aleatoria\n",
        "def is_primo(a):\n",
        "    if a%2==0:\n",
        "        return False\n",
        "    for i in range(3,a//2,2):\n",
        "        if a%i==0:\n",
        "            return False\n",
        "    return True\n",
        "\n",
        "def get_primo(fro_m):\n",
        "    i=random.randrange(fro_m,1000)\n",
        "    while True:\n",
        "        if is_primo(i):\n",
        "            return i\n",
        "        i=i+1\n",
        "#valor de Φ\n",
        "def fi(a,b):\n",
        "    return (a-1)*(b-1)\n",
        "\n",
        "#aqui se busca algun valor que cumpla las propiedades ya mencionadas de el valor 'e'\n",
        "def val_e(n):\n",
        "    #se itera \n",
        "    while True:\n",
        "        i=get_primo(20)\n",
        "        if mcd(i,n)==1:\n",
        "            return i\n",
        "\n",
        "#calculo del 'n' mencionado anteriormente\n",
        "def val_n(p,q):\n",
        "    return p*q\n",
        "\n",
        "#aqui se calcula todo junto y se imprimen los valores\n",
        "def get_publica(p,q):\n",
        "    n=val_n(p,q)\n",
        "    fi_1=fi(p,q)\n",
        "    e=val_e(fi_1)\n",
        "    return [e,n]\n",
        "\n",
        "# ya que el valor de 'e' se toma aleatoriamente, este no sera el mismo en cada ejecucion\n",
        "p=89\n",
        "q=97\n",
        "\n",
        "llave_pub=get_publica(p,q)\n",
        "print(llave_p)\n",
        "\n",
        "\n",
        "#cabe recalcar que p y q tambien pueden calcularse aleatoriamente para mayor seguridad"
      ],
      "execution_count": null,
      "outputs": [
        {
          "output_type": "stream",
          "text": [
            "[503, 8633]\n"
          ],
          "name": "stdout"
        }
      ]
    },
    {
      "cell_type": "markdown",
      "metadata": {
        "id": "T03LGmbjd2bq",
        "colab_type": "text"
      },
      "source": [
        "**Llave privada**\n",
        "\n",
        "funciona de manera inversa a la llave publica, con los valores de la llave, se desencriptan los valores encriptados por la llave publica.\n",
        "\n",
        "la llave publica es un conjunto de dos numeros $d,n$, los cuales cumplen las siguiente condicion:\n",
        "* $d=e^{-1}$, osea $d$ es la inversa multiplicativa del $e$ que se usa en la llave privada, y ademas ambos comparten el mismo $n$"
      ]
    },
    {
      "cell_type": "code",
      "metadata": {
        "id": "ThKzdLOSd2Pr",
        "colab_type": "code",
        "colab": {
          "base_uri": "https://localhost:8080/",
          "height": 34
        },
        "outputId": "9f8e8263-1e6a-4f41-d519-4d9adec1f927"
      },
      "source": [
        "def get_privada(e,p,q):\n",
        "    d=inversa(e,fi(p,q))\n",
        "    n=val_n(p,q)\n",
        "    return [d,val_n(p,q)]\n",
        "\n",
        "e=llave_pub[0]\n",
        "llave_priv=get_privada(e,p,q)\n",
        "print(llave_priv)"
      ],
      "execution_count": null,
      "outputs": [
        {
          "output_type": "stream",
          "text": [
            "[3143, 8633]\n"
          ],
          "name": "stdout"
        }
      ]
    },
    {
      "cell_type": "markdown",
      "metadata": {
        "id": "3wRGVd9vfDZx",
        "colab_type": "text"
      },
      "source": [
        "Nota: dado que $d$ es la inversa de $e$, se debe pasar a la funcion el valor de $e$, esto a razon de que $e$ se calcula de manera aleatoria\n",
        "\n",
        "Para comprobar que el valor $d$ calculado en el anterior algorimo este funcionando correctamente, se puede calcular la inversa de $d$, la cual deberia ser igual a $e$"
      ]
    },
    {
      "cell_type": "code",
      "metadata": {
        "id": "aFt0NmmIgIvr",
        "colab_type": "code",
        "colab": {
          "base_uri": "https://localhost:8080/",
          "height": 50
        },
        "outputId": "95df8ec7-0d38-42ba-a552-65bf09439124"
      },
      "source": [
        "e_1=inversa(llave_priv[0],fi(p,q))\n",
        "e=llave_pub[0]\n",
        "print(e_1)\n",
        "print(e)"
      ],
      "execution_count": null,
      "outputs": [
        {
          "output_type": "stream",
          "text": [
            "887\n",
            "887\n"
          ],
          "name": "stdout"
        }
      ]
    },
    {
      "cell_type": "markdown",
      "metadata": {
        "id": "vJ2CpdMzg5LL",
        "colab_type": "text"
      },
      "source": [
        "**Encriptar y desencriptar**\n",
        "\n",
        "\n",
        "\n",
        "---\n",
        "**Encriptar**\n",
        "\n",
        "Dados $e,n$, la llave publica, y un mensaje $m$, para encriptar $m$, primero se debe asignar un valor numerico a cada caracter\n",
        "\n",
        "Ejemplo: 'c'=3\n",
        "\n",
        "luego, por cada valor de cada caracter en el mensaje, se debe hacer la siguiente operacion, como ejemplo, se toma 'c'=3:\n",
        "\n",
        "$3^{e}mod(n)$.\n",
        "\n",
        "Pero dado que e no siempre es un numero pequeno, una operacion asi de grande tardaria mucho tiempo, o de paso no seria completada, para solucionar esto, se hace uso de un algoritmo que calcula el valor de exponentes muy grandes $mod (n)$\n",
        "\n",
        "$algoritmo:$\n",
        "\n",
        "dado $a^r mod(b)$, la notacion $n_i$ como el digito del numero r en la posicion i, y bin(n) como la operacion que pasa un numero decimal a binario, $a,n,r,b \\in Z$, tenemos:\n",
        "\n",
        "n=bin(r)\n",
        "t=digitos de n\n",
        "\n",
        "\n",
        "$\\forall_{i=1}^{t} \\{acum=acum*(a^{2^{i-1}}mod(b))$,  nada en cualquier otro caso\n",
        "\n",
        "acum=acum mod(b)"
      ]
    },
    {
      "cell_type": "code",
      "metadata": {
        "id": "jWLQ-EfrpBP6",
        "colab_type": "code",
        "colab": {}
      },
      "source": [
        "def encriptar(mensaje,e,n):\n",
        "    bi=str(bin(e))[2:]\n",
        "    j=[]\n",
        "    for i in range(len(mensaje)):\n",
        "        acum=1\n",
        "        h=0\n",
        "        for k in reversed(range(len(bi))):\n",
        "            if bi[k] == '1':\n",
        "               acum=acum*(int_char(mensaje[i])**(2**h)%n)\n",
        "            h=h+1\n",
        "        j.append(acum%n)\n",
        "    return j"
      ],
      "execution_count": null,
      "outputs": []
    },
    {
      "cell_type": "markdown",
      "metadata": {
        "id": "SxlYkYVZpPtk",
        "colab_type": "text"
      },
      "source": [
        "**Desencriptar**\n",
        "\n",
        "se repite el mismo proceso que al encriptar, pero ahora en vez de usar a $e$, se usa a $e^{-1}=d$, y se calcula su valor caracter.\n",
        "\n",
        "Ejemplo: 3='c'"
      ]
    },
    {
      "cell_type": "code",
      "metadata": {
        "id": "V7tlUV85pl0u",
        "colab_type": "code",
        "colab": {}
      },
      "source": [
        "def desencriptar(mensaje,d,n):\n",
        "    bi=str(bin(d))[2:]\n",
        "    j=[]\n",
        "    for i in range(len(mensaje)):\n",
        "        acum=1\n",
        "        h=0\n",
        "        for k in reversed(range(len(bi))):\n",
        "            if bi[k]=='1':\n",
        "                acum=acum*(mensaje[i]**(2**h)%n)\n",
        "            h=h+1\n",
        "        j.append(char_int(acum%n))\n",
        "    return \"\".join(j)"
      ],
      "execution_count": null,
      "outputs": []
    },
    {
      "cell_type": "markdown",
      "metadata": {
        "id": "EsZIp8oap97z",
        "colab_type": "text"
      },
      "source": [
        "**Pruebas de funcionamiento**\n",
        "\n",
        "Ya solo hace falta probar el algoritmo, para ello calculamos una llave publica y una llave privada y luego encriptamos un mensaje, como ya se especifico en la conversion, lo que no pertenezca al alfabeton sera convertido a un punto"
      ]
    },
    {
      "cell_type": "code",
      "metadata": {
        "id": "Ev_spnQPqUNu",
        "colab_type": "code",
        "colab": {
          "base_uri": "https://localhost:8080/",
          "height": 50
        },
        "outputId": "cd73c089-11cc-467a-c990-04ff82462601"
      },
      "source": [
        "publica=get_publica(p,q)\n",
        "e=publica[0]\n",
        "n=publica[1]\n",
        "\n",
        "privada=get_privada(e,p,q)\n",
        "d=privada[0]\n",
        "\n",
        "enc=encriptar(\"hola mundo\",e,n)\n",
        "print(enc)\n",
        "\n",
        "des=desencriptar(enc,d,n)\n",
        "print(des)"
      ],
      "execution_count": null,
      "outputs": [
        {
          "output_type": "stream",
          "text": [
            "[4644, 1274, 5036, 1, 0, 7678, 910, 2238, 4050, 1274]\n",
            "hola.mundo\n"
          ],
          "name": "stdout"
        }
      ]
    },
    {
      "cell_type": "markdown",
      "metadata": {
        "id": "goATN6DdJ-yF",
        "colab_type": "text"
      },
      "source": [
        "**Bibliografia**\n",
        "\n",
        "[1] : https://es.wikipedia.org/wiki/RSA#cite_note-1\n",
        "\n",
        "\n",
        "https://juncotic.com/rsa-como-funciona-este-algoritmo/"
      ]
    }
  ]
}